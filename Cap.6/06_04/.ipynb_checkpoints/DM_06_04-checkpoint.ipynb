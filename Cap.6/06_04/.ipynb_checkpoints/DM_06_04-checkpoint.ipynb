{
 "cells": [
  {
   "cell_type": "markdown",
   "metadata": {},
   "source": [
    "# DM_06_04\n",
    "## Instalar e carregar pacotes\n",
    "\n",
    "Usaremos o pacote \"apriori\" nesta demonstração. O pacote não é instalado na distribuição Anaconda padrão, então primeiro é preciso ir à linha de comando e executar o seguinte comando:\n",
    "\n",
    "    pip install apriori\n",
    "\n",
    "É preciso reiniciar o IPython para que o novo pacote seja exibido.\n",
    "\n",
    "Após instalar o apriori, importe-o da maneira padrão."
   ]
  },
  {
   "cell_type": "code",
   "execution_count": 6,
   "metadata": {},
   "outputs": [
    {
     "name": "stdout",
     "output_type": "stream",
     "text": [
      "Requirement already satisfied: apriori in /home/catia/anaconda3/lib/python3.8/site-packages (1.0.0)\r\n"
     ]
    }
   ],
   "source": [
    "!pip install apriori\n",
    "import apriori"
   ]
  },
  {
   "cell_type": "markdown",
   "metadata": {},
   "source": [
    "## Análise de associação com o apriori\n",
    "Usaremos o arquivo \"groceries.csv\" que você deve ter baixado com este script IPython. Vamos configurar o nível mínimo de confiança como 0,05."
   ]
  },
  {
   "cell_type": "code",
   "execution_count": 7,
   "metadata": {},
   "outputs": [],
   "source": [
    "item_supports, rules = apriori.run_apriori(\"groceries.csv\", min_confidence=0.05)"
   ]
  },
  {
   "cell_type": "markdown",
   "metadata": {},
   "source": [
    "### Suporte\n",
    "Podemos verificar os cinco itens com os maiores níveis de suporte no conjunto de dados de transações."
   ]
  },
  {
   "cell_type": "code",
   "execution_count": 9,
   "metadata": {},
   "outputs": [
    {
     "name": "stdout",
     "output_type": "stream",
     "text": [
      "whole milk - 0.26\n",
      "other vegetables - 0.19\n",
      "rolls/buns - 0.18\n",
      "soda - 0.17\n",
      "yogurt - 0.14\n"
     ]
    }
   ],
   "source": [
    "for items, support in item_supports[: 5]:\n",
    "    print(\"{0} - {1:.2f}\".format(\", \".join(items), support))"
   ]
  },
  {
   "cell_type": "markdown",
   "metadata": {},
   "source": [
    "A linha significa que whole milk, ou leite integral, aparece em 26% das transações deste conjunto de dados.\n",
    "### Confiança\n",
    "Também podemos verificar os cinco itens com os maiores níveis de confiança."
   ]
  },
  {
   "cell_type": "code",
   "execution_count": 4,
   "metadata": {
    "scrolled": true
   },
   "outputs": [
    {
     "name": "stdout",
     "output_type": "stream",
     "text": [
      "yogurt => whole milk - 0.40\n",
      "other vegetables => whole milk - 0.39\n",
      "rolls/buns => whole milk - 0.31\n",
      "whole milk => other vegetables - 0.29\n",
      "whole milk => rolls/buns - 0.22\n"
     ]
    }
   ],
   "source": [
    "for items, rule in rules[: 5]:\n",
    "    print(\"{0} => {1} - {2:.2f}\".format(\", \".join(items[0]), \", \".join(items[1]), rule))"
   ]
  },
  {
   "cell_type": "markdown",
   "metadata": {},
   "source": [
    "A primeira linha significa que, de todas as cestas com iogurte, 40% também continham leite integral."
   ]
  },
  {
   "cell_type": "code",
   "execution_count": 10,
   "metadata": {},
   "outputs": [
    {
     "name": "stdout",
     "output_type": "stream",
     "text": [
      "yogurt => whole milk - 0.40\n",
      "other vegetables => whole milk - 0.39\n",
      "rolls/buns => whole milk - 0.31\n",
      "whole milk => other vegetables - 0.29\n",
      "whole milk => rolls/buns - 0.22\n"
     ]
    }
   ],
   "source": [
    "for items, rule in rules[: 5]:\n",
    "    print(\"{0} => {1} - {2:.2f}\".format(\", \".join(items[0]), \", \".join(items[1]), rule))"
   ]
  },
  {
   "cell_type": "code",
   "execution_count": null,
   "metadata": {},
   "outputs": [],
   "source": []
  }
 ],
 "metadata": {
  "kernelspec": {
   "display_name": "Python 3",
   "language": "python",
   "name": "python3"
  },
  "language_info": {
   "codemirror_mode": {
    "name": "ipython",
    "version": 3
   },
   "file_extension": ".py",
   "mimetype": "text/x-python",
   "name": "python",
   "nbconvert_exporter": "python",
   "pygments_lexer": "ipython3",
   "version": "3.8.3"
  }
 },
 "nbformat": 4,
 "nbformat_minor": 1
}
