{
 "cells": [
  {
   "cell_type": "markdown",
   "metadata": {},
   "source": [
    "# DM_08_04\n",
    "## Importar pacotes\n",
    "Vamos criar um modelo oculto de Markov para analisar a mudança de estados no conjunto de dados."
   ]
  },
  {
   "cell_type": "code",
   "execution_count": 3,
   "metadata": {},
   "outputs": [
    {
     "name": "stdout",
     "output_type": "stream",
     "text": [
      "Collecting hmmlearn\n",
      "  Downloading hmmlearn-0.2.4-cp38-cp38-manylinux1_x86_64.whl (364 kB)\n",
      "\u001b[K     |████████████████████████████████| 364 kB 1.1 MB/s eta 0:00:01\n",
      "\u001b[?25hRequirement already satisfied: scikit-learn>=0.16 in /home/catia/anaconda3/lib/python3.8/site-packages (from hmmlearn) (0.23.1)\n",
      "Requirement already satisfied: scipy>=0.19 in /home/catia/anaconda3/lib/python3.8/site-packages (from hmmlearn) (1.5.0)\n",
      "Requirement already satisfied: numpy>=1.10 in /home/catia/anaconda3/lib/python3.8/site-packages (from hmmlearn) (1.18.5)\n",
      "Requirement already satisfied: joblib>=0.11 in /home/catia/anaconda3/lib/python3.8/site-packages (from scikit-learn>=0.16->hmmlearn) (0.16.0)\n",
      "Requirement already satisfied: threadpoolctl>=2.0.0 in /home/catia/anaconda3/lib/python3.8/site-packages (from scikit-learn>=0.16->hmmlearn) (2.1.0)\n",
      "Installing collected packages: hmmlearn\n",
      "Successfully installed hmmlearn-0.2.4\n"
     ]
    }
   ],
   "source": [
    "!pip install hmmlearn\n",
    "%matplotlib inline\n",
    "\n",
    "import pylab\n",
    "import numpy as np\n",
    "import pandas as pd\n",
    "\n",
    "from hmmlearn.hmm import GaussianHMM"
   ]
  },
  {
   "cell_type": "markdown",
   "metadata": {},
   "source": [
    "## Importar dados\n",
    "Ler arquivo CSV em \"df\"."
   ]
  },
  {
   "cell_type": "code",
   "execution_count": 5,
   "metadata": {},
   "outputs": [
    {
     "data": {
      "text/html": [
       "<div>\n",
       "<style scoped>\n",
       "    .dataframe tbody tr th:only-of-type {\n",
       "        vertical-align: middle;\n",
       "    }\n",
       "\n",
       "    .dataframe tbody tr th {\n",
       "        vertical-align: top;\n",
       "    }\n",
       "\n",
       "    .dataframe thead th {\n",
       "        text-align: right;\n",
       "    }\n",
       "</style>\n",
       "<table border=\"1\" class=\"dataframe\">\n",
       "  <thead>\n",
       "    <tr style=\"text-align: right;\">\n",
       "      <th></th>\n",
       "      <th>row</th>\n",
       "      <th>rt</th>\n",
       "      <th>corr</th>\n",
       "      <th>Pacc</th>\n",
       "      <th>prev</th>\n",
       "    </tr>\n",
       "  </thead>\n",
       "  <tbody>\n",
       "    <tr>\n",
       "      <th>0</th>\n",
       "      <td>1</td>\n",
       "      <td>6.456770</td>\n",
       "      <td>cor</td>\n",
       "      <td>0.0</td>\n",
       "      <td>inc</td>\n",
       "    </tr>\n",
       "    <tr>\n",
       "      <th>1</th>\n",
       "      <td>2</td>\n",
       "      <td>5.602119</td>\n",
       "      <td>cor</td>\n",
       "      <td>0.0</td>\n",
       "      <td>cor</td>\n",
       "    </tr>\n",
       "    <tr>\n",
       "      <th>2</th>\n",
       "      <td>3</td>\n",
       "      <td>6.253829</td>\n",
       "      <td>inc</td>\n",
       "      <td>0.0</td>\n",
       "      <td>cor</td>\n",
       "    </tr>\n",
       "    <tr>\n",
       "      <th>3</th>\n",
       "      <td>4</td>\n",
       "      <td>5.451038</td>\n",
       "      <td>inc</td>\n",
       "      <td>0.0</td>\n",
       "      <td>inc</td>\n",
       "    </tr>\n",
       "    <tr>\n",
       "      <th>4</th>\n",
       "      <td>5</td>\n",
       "      <td>5.872118</td>\n",
       "      <td>inc</td>\n",
       "      <td>0.0</td>\n",
       "      <td>inc</td>\n",
       "    </tr>\n",
       "  </tbody>\n",
       "</table>\n",
       "</div>"
      ],
      "text/plain": [
       "   row        rt corr  Pacc prev\n",
       "0    1  6.456770  cor   0.0  inc\n",
       "1    2  5.602119  cor   0.0  cor\n",
       "2    3  6.253829  inc   0.0  cor\n",
       "3    4  5.451038  inc   0.0  inc\n",
       "4    5  5.872118  inc   0.0  inc"
      ]
     },
     "execution_count": 5,
     "metadata": {},
     "output_type": "execute_result"
    }
   ],
   "source": [
    "df = pd.read_csv(\"speed.csv\", sep = \",\")\n",
    "df.head(5)"
   ]
  },
  {
   "cell_type": "markdown",
   "metadata": {},
   "source": [
    "Tirar o número da linha e \"corr\" para que possamos nos concentrar na influência de \"prev\" e \"Pacc\" em \"rt\". Também definir \"prev\" como fator."
   ]
  },
  {
   "cell_type": "code",
   "execution_count": 7,
   "metadata": {},
   "outputs": [],
   "source": [
    "x = df.drop([\"row\", \"corr\"], axis = 1)\n",
    "x[\"prev\"] = pd.factorize(x[\"prev\"])[0]"
   ]
  },
  {
   "cell_type": "markdown",
   "metadata": {},
   "source": [
    "## Criar modelo\n",
    "Fazer HMM com 2 estados (a escolha de 2 é baseada na teoria)."
   ]
  },
  {
   "cell_type": "code",
   "execution_count": 9,
   "metadata": {},
   "outputs": [
    {
     "data": {
      "text/plain": [
       "ConvergenceMonitor(\n",
       "    history=[-116.44940310316711, -116.44670518280775],\n",
       "    iter=8,\n",
       "    n_iter=10000,\n",
       "    tol=0.01,\n",
       "    verbose=False,\n",
       ")"
      ]
     },
     "execution_count": 9,
     "metadata": {},
     "output_type": "execute_result"
    }
   ],
   "source": [
    "model = GaussianHMM(n_components=2, n_iter=10000, random_state=1).fit(x)\n",
    "model.monitor_"
   ]
  },
  {
   "cell_type": "markdown",
   "metadata": {},
   "source": [
    "Prever o estado oculto de cada registro e contabilizar os estados previstos."
   ]
  },
  {
   "cell_type": "code",
   "execution_count": 10,
   "metadata": {},
   "outputs": [
    {
     "data": {
      "text/plain": [
       "0    243\n",
       "1    196\n",
       "dtype: int64"
      ]
     },
     "execution_count": 10,
     "metadata": {},
     "output_type": "execute_result"
    }
   ],
   "source": [
    "states = model.predict(x)\n",
    "pd.Series(states).value_counts()"
   ]
  },
  {
   "cell_type": "markdown",
   "metadata": {},
   "source": [
    "Calcular o tempo médio de reação (rt, reaction time) de cada um dos dois estados."
   ]
  },
  {
   "cell_type": "code",
   "execution_count": 11,
   "metadata": {},
   "outputs": [
    {
     "data": {
      "text/plain": [
       "array([6.40098754, 5.56434105])"
      ]
     },
     "execution_count": 11,
     "metadata": {},
     "output_type": "execute_result"
    }
   ],
   "source": [
    "model.means_[:, 0]"
   ]
  },
  {
   "cell_type": "markdown",
   "metadata": {},
   "source": [
    "## Visualizar resultados\n",
    "Gerar gráfico para mostrar as mudanças de estado."
   ]
  },
  {
   "cell_type": "code",
   "execution_count": 12,
   "metadata": {},
   "outputs": [
    {
     "data": {
      "text/plain": [
       "[<matplotlib.lines.Line2D at 0x7f6170fc1130>]"
      ]
     },
     "execution_count": 12,
     "metadata": {},
     "output_type": "execute_result"
    },
    {
     "data": {
      "image/png": "[encoded data removed]",
      "text/plain": [
       "<Figure size 1440x72 with 1 Axes>"
      ]
     },
     "metadata": {
      "needs_background": "light"
     },
     "output_type": "display_data"
    }
   ],
   "source": [
    "fig = pylab.figure(figsize=(20, 1))\n",
    "ax = fig.add_subplot(111)\n",
    "ax.grid(True)\n",
    "ax.set_xlabel(\"Record number\")\n",
    "ax.set_ylabel(\"State\")\n",
    "ax.plot(states)"
   ]
  },
  {
   "cell_type": "markdown",
   "metadata": {
    "collapsed": true
   },
   "source": [
    "No gráfico podemos ver as mudanças de estados."
   ]
  },
  {
   "cell_type": "code",
   "execution_count": null,
   "metadata": {},
   "outputs": [],
   "source": []
  }
 ],
 "metadata": {
  "kernelspec": {
   "display_name": "Python 3",
   "language": "python",
   "name": "python3"
  },
  "language_info": {
   "codemirror_mode": {
    "name": "ipython",
    "version": 3
   },
   "file_extension": ".py",
   "mimetype": "text/x-python",
   "name": "python",
   "nbconvert_exporter": "python",
   "pygments_lexer": "ipython3",
   "version": "3.8.3"
  }
 },
 "nbformat": 4,
 "nbformat_minor": 1
}
